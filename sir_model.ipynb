{
 "cells": [
  {
   "cell_type": "markdown",
   "metadata": {},
   "source": [
    "# Computer Modeling of Epidemics with the SIR Model\n",
    "\n",
    "In this workbook we'll work through a simple model of how an epidemic spreads through a population. The model is called \"SIR\", because every individual in the population is assigned to one of three compartments:\n",
    "\\begin{align}\n",
    "S &= \\textrm{Susceptible} \\\\\n",
    "I &= \\textrm{Infected} \\\\\n",
    "R &= \\textrm{Removed (or Recovered)}\n",
    "\\end{align}\n",
    "\n",
    "![susceptible -> infected -> removed](images/sir_flow.png)\n",
    "\n",
    "The number of individuals in each \"compartment\" of the population changes as the epidemic spreads, according to a system of differential equations:\n",
    "\n",
    "\\begin{align}\n",
    "\\frac{dS}{dt} &= -\\beta S(t) I(t) \\\\\n",
    "\\frac{dI}{dt} &= \\beta S(t) I(t) - \\gamma I(t) \\\\\n",
    "\\frac{dR}{dt} &= \\gamma I(t)\n",
    "\\end{align}\n",
    "\n",
    "Note that $\\frac{dS}{dt} + \\frac{dI}{dt} + \\frac{dR}{dt} = 0$."
   ]
  },
  {
   "cell_type": "markdown",
   "metadata": {},
   "source": [
    "We can model the change in each compartment over time numerically by moving forward by time steps and updating each value (S,I,R) based on the corresponding differential equation.\n",
    "\n",
    "As a brief aside, let's look at a numerical model for the motion of an object that is accelerating. The system of equations for the change in distance $x$ and velocity $dx$ are as follows:\n",
    "\n",
    "\\begin{align}\n",
    "\\frac{dx}{dt} &= v \\\\\n",
    "\\frac{dv}{dt} &= a & (\\mathrm{or\\ equivalently}\\,\\frac{d^2x}{dt^2})\n",
    "\\end{align}\n",
    "\n",
    "Here is an example function to update distance and velocity according to the above equations. Note the update uses a midpoint formula based on half of the \"old\" velocity (the velocity at the beginning of the timestep) and half of the \"new\" velocity (the velocity at the end of the timestep)."
   ]
  },
  {
   "cell_type": "code",
   "execution_count": null,
   "metadata": {},
   "outputs": [],
   "source": [
    "function update(distance, velocity, acceleration, dt)\n",
    "    new_v = velocity + acceleration * dt\n",
    "    new_d = distance + 0.5(velocity * dt) + 0.5(new_v * dt)\n",
    "    return new_d, new_v\n",
    "end"
   ]
  },
  {
   "cell_type": "markdown",
   "metadata": {},
   "source": [
    "We can use this update function to simulate the motion in the $x$ direction of an object that accelerates from a standing start at 1 metre per second per second, for example, a bicycle rolling downhill along a street where the distance along the street is $x$."
   ]
  },
  {
   "cell_type": "code",
   "execution_count": null,
   "metadata": {},
   "outputs": [],
   "source": [
    "dt = 1.0 # time step is one second\n",
    "nsteps = 10 # total time ten seconds\n",
    "x = 0.0 # a distance of 0 from starting point\n",
    "v = 0.0 # object is stationary at time t=0\n",
    "a = 1.0 # accelerating at 1m/s^2\n",
    "\n",
    "distance = Array{Float64}(undef, nsteps) # how far has the object travelled at each timestep?\n",
    "for i = 1:nsteps\n",
    "    x, v = update(x, v, a, dt)\n",
    "    distance[i] = x\n",
    "end\n",
    "\n",
    "using Plots\n",
    "plot(distance[1:nsteps], xlabel=\"time\", ylabel=\"distance\", legend=false)"
   ]
  },
  {
   "cell_type": "markdown",
   "metadata": {},
   "source": [
    "Back to the SIR model: we can define an update function for the number of individuals in the three compartments, based on the model parameters beta and gamma:"
   ]
  },
  {
   "cell_type": "code",
   "execution_count": null,
   "metadata": {},
   "outputs": [],
   "source": [
    "function update_SIR(current, beta, gam, dt)\n",
    "    s = current[1]\n",
    "    i = current[2]\n",
    "    r = current[3]\n",
    "    new_s = s - (beta * s * i * dt)\n",
    "    new_i = i + (beta * s * i * dt) - (gam * i * dt)\n",
    "    new_r = r + (gam * i * dt)\n",
    "    return [new_s, new_i, new_r]\n",
    "end"
   ]
  },
  {
   "cell_type": "markdown",
   "metadata": {},
   "source": [
    "Now, we can use this function to model the change in each group over time for an imaginary outbreak in a group of 100 people. Initially only one person is infected."
   ]
  },
  {
   "cell_type": "code",
   "execution_count": null,
   "metadata": {},
   "outputs": [],
   "source": [
    "susceptible = 99\n",
    "infectious = 1\n",
    "removed = 0\n",
    "\n",
    "num_days = 180\n",
    "dt = 1.0 # timestep of one day\n",
    "n_steps = round(Int64, num_days / dt)\n",
    "result = Array{Float64}(undef, n_steps+1, 3)\n",
    "time = 1:n_steps\n",
    "\n",
    "beta = 0.0021 # probability of a infection\n",
    "gam = 0.1 # 1/recovery time e.g. average 10 days to recover\n",
    "result[1,:] = [susceptible, infectious, removed]\n",
    "for step = 1:n_steps\n",
    "    new = update_SIR(result[step,:], beta, gam, dt)\n",
    "    result[step+1,1] = new[1]\n",
    "    result[step+1,2] = new[2]\n",
    "    result[step+1,3] = new[3]\n",
    "end\n",
    "\n",
    "using Plots\n",
    "gr()\n",
    "plot(time, result[1:n_steps,:], title=\"Example SIR results\", xlabel=\"Day\", ylabel=\"Percentage of population\", labels = [\"Susceptible\" \"Infected\" \"Removed\"])"
   ]
  },
  {
   "cell_type": "markdown",
   "metadata": {},
   "source": [
    "We can also look at real world data and see how well the actual progression of COVID-19 is simulated by the SIR model. The file [au_covid.csv](au_covid.csv) contains data for the first 72 days of the COVID-19 outbreak in Australia, taken from the first 72 days of the [2019 Novel Coronavirus COVID-19 (2019-nCoV) Data Repository by Johns Hopkins CSSE](https://github.com/CSSEGISandData/COVID-19/)."
   ]
  },
  {
   "cell_type": "code",
   "execution_count": null,
   "metadata": {},
   "outputs": [],
   "source": [
    "using CSV\n",
    "x = CSV.read(\"au_covid.csv\", transpose=true)\n",
    "states = convert(Matrix, x)\n",
    "state_names = reshape(String.(names(x)), 1, :)\n",
    "plot(states, title=\"COVID-19 Cases per State/Territory\", xlabel=\"Day\", ylabel=\"Number of cases\", labels=state_names, legend=:topleft)"
   ]
  },
  {
   "cell_type": "markdown",
   "metadata": {},
   "source": [
    "We'll just look at the national total, as the numbers for each state are too small to accurately model."
   ]
  },
  {
   "cell_type": "code",
   "execution_count": null,
   "metadata": {},
   "outputs": [],
   "source": [
    "national=sum(states,dims=2)\n",
    "plot(national,title=\"COVID-19 Cases in Australia\", xlabel=\"Day\", ylabel=\"Number of cases\", legend=false)"
   ]
  },
  {
   "cell_type": "markdown",
   "metadata": {},
   "source": [
    "For a population of the size of Australia, we can choose arbitrary values of beta and gamma to see how closely the SIR model matches the observed data. Try changing the values in the code below to see how it affects the fit."
   ]
  },
  {
   "cell_type": "code",
   "execution_count": null,
   "metadata": {},
   "outputs": [],
   "source": [
    "popsize=24600000\n",
    "infected = 1\n",
    "beta = 7e-9\n",
    "gam = 0.05 # 20-day infectious period\n",
    "\n",
    "num_days = size(states,1)\n",
    "dt = 1.0 # timestep of one day\n",
    "n_steps = round(Int64, num_days / dt)\n",
    "result = Array{Float64}(undef, n_steps+1, 3)\n",
    "\n",
    "time = 1:n_steps\n",
    "result[1,1:3] = [popsize-infected,infected,0.0]\n",
    "for step = time\n",
    "    new = update_SIR(result[step,:], beta, gam, dt)\n",
    "    result[step+1,1] = new[1]\n",
    "    result[step+1,2] = new[2]\n",
    "    result[step+1,3] = new[3]\n",
    "end\n",
    "predicted=result[1:n_steps,2]+result[1:n_steps,3]\n",
    "\n",
    "plot(time, [national,predicted], title=\"Actual vs. Observed Cases\", xlabel=\"Day\", ylabel=\"Number of Cases\", labels = [\"Actual\" \"Predicted\"])"
   ]
  },
  {
   "cell_type": "markdown",
   "metadata": {},
   "source": [
    "Rather than guessing the values of $\\beta$ and $\\gamma$, it would be better to fit them to the data to minimize the mean squared error between the predicted and actual values for each day. The [DifferentialEquations.jl](https://docs.sciml.ai/v1.6/analysis/parameter_estimation.html) package allows us to perform this fitting in Julia - but that's a subject for a future notebook."
   ]
  }
 ],
 "metadata": {
  "kernelspec": {
   "display_name": "Julia 1.4.0",
   "language": "julia",
   "name": "julia-1.4"
  },
  "language_info": {
   "file_extension": ".jl",
   "mimetype": "application/julia",
   "name": "julia",
   "version": "1.4.0"
  }
 },
 "nbformat": 4,
 "nbformat_minor": 4
}
